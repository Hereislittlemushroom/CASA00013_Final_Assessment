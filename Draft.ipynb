{
 "metadata": {
  "language_info": {
   "codemirror_mode": {
    "name": "ipython",
    "version": 3
   },
   "file_extension": ".py",
   "mimetype": "text/x-python",
   "name": "python",
   "nbconvert_exporter": "python",
   "pygments_lexer": "ipython3",
   "version": 3
  },
  "orig_nbformat": 2
 },
 "nbformat": 4,
 "nbformat_minor": 2,
 "cells": [
  {
   "source": [
    "## Front Matter\n",
    "\n",
    "- CASA0013 Introduction to Programming for Spatial Analysts\n",
    "- Student ID: 20044050\n",
    "- Title\n",
    "- Word Count\n"
   ],
   "cell_type": "markdown",
   "metadata": {}
  },
  {
   "source": [
    "## Executive Summary\n",
    "\n",
    "### Key fields\n",
    "\n",
    "### Recommendations\n",
    "\n",
    "Tip: your audiences are Mayor OR CEO"
   ],
   "cell_type": "markdown",
   "metadata": {}
  },
  {
   "source": [
    "## Reproducible Analysis\n",
    "\n",
    "### Data Collection\n",
    "\n",
    "### Data preprocessing\n",
    "\n",
    "### Analysis\n",
    "\n",
    "### Visualisation\n",
    "\n",
    "Tip: it is better to not include advanced analytical topics (e.g. NLP)"
   ],
   "cell_type": "markdown",
   "metadata": {}
  },
  {
   "source": [
    "## Executive Briefing\n",
    "\n",
    "### Relevant literature\n",
    "    - London\n",
    "    - Outside London\n",
    "    - Historical case\n",
    "    - Modern case\n",
    "\n",
    "### Review of policy\n",
    "    - London\n",
    "    - Outside London\n",
    "    - Historical policy\n",
    "    - Modern policy"
   ],
   "cell_type": "markdown",
   "metadata": {}
  },
  {
   "source": [
    "Tip: Do not forget to zip your .ipynb file"
   ],
   "cell_type": "markdown",
   "metadata": {}
  }
 ]
}